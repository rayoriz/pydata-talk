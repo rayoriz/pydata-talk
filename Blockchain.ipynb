{
 "cells": [
  {
   "cell_type": "markdown",
   "metadata": {},
   "source": [
    "# Creating a basic block\n",
    "https://medium.com/crypto-currently/lets-build-the-tiniest-blockchain-e70965a248b"
   ]
  },
  {
   "cell_type": "code",
   "execution_count": 19,
   "metadata": {},
   "outputs": [],
   "source": [
    "import hashlib as hasher\n",
    "import datetime as date\n"
   ]
  },
  {
   "cell_type": "code",
   "execution_count": 27,
   "metadata": {},
   "outputs": [],
   "source": [
    "class Block:\n",
    "  def __init__(self, index, timestamp, data, previous_hash):\n",
    "    self.index = index   # id of the block\n",
    "    self.timestamp = timestamp # Timestamp\n",
    "    self.data = data # Transactions usually\n",
    "    self.previous_hash = previous_hash # Pointer to the previous block\n",
    "    self.hash = self.hash_block() # Hash of the current block\n",
    "  \n",
    "  def hash_block(self): # A function which hashes all the content of the block\n",
    "    sha = hasher.sha256()\n",
    "    sha.update((str(self.index) + \n",
    "               str(self.timestamp) + \n",
    "               str(self.data) + \n",
    "               str(self.previous_hash)).encode(\"UTF-8\"))\n",
    "    return sha.hexdigest()"
   ]
  },
  {
   "cell_type": "markdown",
   "metadata": {},
   "source": [
    "# What is hashing?"
   ]
  },
  {
   "cell_type": "code",
   "execution_count": 28,
   "metadata": {},
   "outputs": [
    {
     "data": {
      "text/plain": [
       "'e348d8d0564992652cc3e8e5ae7dbcbed9ecdea4db96c573d8b2087643ee2569'"
      ]
     },
     "execution_count": 28,
     "metadata": {},
     "output_type": "execute_result"
    }
   ],
   "source": [
    "\n",
    "name = '?????'\n",
    "sha = hasher.sha256()\n",
    "sha.update(name.encode(\"UTF-8\"))\n",
    "hashed_name =  sha.hexdigest()\n",
    "hashed_name"
   ]
  },
  {
   "cell_type": "markdown",
   "metadata": {},
   "source": [
    "# Genesis block - magic block out of nowhere"
   ]
  },
  {
   "cell_type": "code",
   "execution_count": 29,
   "metadata": {},
   "outputs": [],
   "source": [
    "\n",
    "import datetime as date\n",
    "\n",
    "def create_genesis_block():\n",
    "  # Manually construct a block with\n",
    "  # index zero and arbitrary previous hash\n",
    "  return Block(0, date.datetime.now(), \"Genesis Block\", \"0\")"
   ]
  },
  {
   "cell_type": "markdown",
   "metadata": {},
   "source": [
    "# Next block\n"
   ]
  },
  {
   "cell_type": "code",
   "execution_count": 30,
   "metadata": {},
   "outputs": [],
   "source": [
    "def next_block(last_block):\n",
    "  this_index = last_block.index + 1\n",
    "  this_timestamp = date.datetime.now()\n",
    "  this_data = \"Hey! I'm block \" + str(this_index)\n",
    "  this_hash = last_block.hash\n",
    "  return Block(this_index, this_timestamp, this_data, this_hash)"
   ]
  },
  {
   "cell_type": "code",
   "execution_count": 31,
   "metadata": {},
   "outputs": [],
   "source": [
    "# Create the blockchain and add the genesis block\n",
    "blockchain = [create_genesis_block()]\n",
    "previous_block = blockchain[0]\n",
    "\n",
    "# How many blocks should we add to the chain\n",
    "# after the genesis block\n",
    "num_of_blocks_to_add = 20\n"
   ]
  },
  {
   "cell_type": "code",
   "execution_count": 33,
   "metadata": {},
   "outputs": [
    {
     "name": "stdout",
     "output_type": "stream",
     "text": [
      "Block #1 has been added to the blockchain!\n",
      "Hash: fe94e6eb42c6568d63059a07cbec4ae5dbc49ab819d7ff0c04c64b81d9737747\n",
      "\n",
      "Block #2 has been added to the blockchain!\n",
      "Hash: e464e480b5f5b5a88ee1ed4e9f0b002f5a08893389ec221e74beebbc8119fe7b\n",
      "\n",
      "Block #3 has been added to the blockchain!\n",
      "Hash: 6d8cc0f69ab56977af9acfa8637d84593d0f535da85a158562e636fef25e7018\n",
      "\n",
      "Block #4 has been added to the blockchain!\n",
      "Hash: 97b2305d8012dbee8dda1390dc8ec9bb4d5e73ec805dddbe9e8711b95ea7cf54\n",
      "\n",
      "Block #5 has been added to the blockchain!\n",
      "Hash: c3958f06ff0395f6791d657739115237512085483f4c0ccd25e4fc1af7857e2e\n",
      "\n",
      "Block #6 has been added to the blockchain!\n",
      "Hash: 72fea274425780f5abb6ef1681aa5ce17cb06b769955e5a06581d96af632b0a5\n",
      "\n",
      "Block #7 has been added to the blockchain!\n",
      "Hash: b13ddf5a978fb05d5b6335f496c712b91c7da36c0ad3bc11301e91fd56c13d3b\n",
      "\n",
      "Block #8 has been added to the blockchain!\n",
      "Hash: 4eabae06b1a6ff5df9a6843db0edf5fbebeb4c6b69a1145b1c67a20f70c278fe\n",
      "\n",
      "Block #9 has been added to the blockchain!\n",
      "Hash: b48fd02b19500a8d509e0a3e8b568c51b285e56fe785a0ed95bc293e7781d562\n",
      "\n",
      "Block #10 has been added to the blockchain!\n",
      "Hash: e290dc245f705de6e1e3131b2fc059a83db26496b04144660b5bd0f9b0b931a5\n",
      "\n",
      "Block #11 has been added to the blockchain!\n",
      "Hash: 7e9b6b47e23e27251b0c0375a8435e7fcfb47d069586d86044936aa05c7fda46\n",
      "\n",
      "Block #12 has been added to the blockchain!\n",
      "Hash: 038839bbace24016b014724880ee2da0b78200321d8fe287f96cdc3ce68f45d2\n",
      "\n",
      "Block #13 has been added to the blockchain!\n",
      "Hash: 1e75f2e110e3ec763e71d20970505ccd06276673339e4bf87cd3b4e88ddcfc3f\n",
      "\n",
      "Block #14 has been added to the blockchain!\n",
      "Hash: 1344dcec24104de43bde26955f87aa87e3a9794574bc2cafc66d7ed77820c7c9\n",
      "\n",
      "Block #15 has been added to the blockchain!\n",
      "Hash: 93f7baead996dcee3c3cb038e99164b84a5ef4414a64b84a6ab6a66361e03c0c\n",
      "\n",
      "Block #16 has been added to the blockchain!\n",
      "Hash: 65edbf312224e7e46244ca03e046860593e6d10a031bf3848775b50adced61e5\n",
      "\n",
      "Block #17 has been added to the blockchain!\n",
      "Hash: 1e5f94d162ea2f7c374d67175b4d35bd43110eba5fbcc598737ffb8a6c9c759f\n",
      "\n",
      "Block #18 has been added to the blockchain!\n",
      "Hash: 3a3ed57f86c3d7f765fe9d0f123e76d327fc1f3206614a079e14cce683984df3\n",
      "\n",
      "Block #19 has been added to the blockchain!\n",
      "Hash: bb5b960e29ef3b26ec6b04ca6d52f16f6cbc37577d3cea02965d0dc85be82bf3\n",
      "\n",
      "Block #20 has been added to the blockchain!\n",
      "Hash: dcc15cf17920ac98d3ec017086994896db3e89a655c4fc0bbae8d0074d824a9b\n",
      "\n"
     ]
    }
   ],
   "source": [
    "# Add blocks to the chain\n",
    "for i in range(0, num_of_blocks_to_add):\n",
    "  block_to_add = next_block(previous_block)\n",
    "  blockchain.append(block_to_add)\n",
    "  previous_block = block_to_add\n",
    "  # Tell everyone about it!\n",
    "  print(\"Block #{} has been added to the blockchain!\".format(block_to_add.index))\n",
    "  print(\"Hash: {}\\n\".format(block_to_add.hash))"
   ]
  },
  {
   "cell_type": "markdown",
   "metadata": {},
   "source": [
    "Further reading\n",
    "https://medium.com/crypto-currently/lets-make-the-tiniest-blockchain-bigger-ac360a328f4d"
   ]
  }
 ],
 "metadata": {
  "kernelspec": {
   "display_name": "Python 3",
   "language": "python",
   "name": "python3"
  },
  "language_info": {
   "codemirror_mode": {
    "name": "ipython",
    "version": 3
   },
   "file_extension": ".py",
   "mimetype": "text/x-python",
   "name": "python",
   "nbconvert_exporter": "python",
   "pygments_lexer": "ipython3",
   "version": "3.7.0"
  }
 },
 "nbformat": 4,
 "nbformat_minor": 2
}
